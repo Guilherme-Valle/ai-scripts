{
 "cells": [
  {
   "cell_type": "code",
   "execution_count": 1,
   "metadata": {},
   "outputs": [],
   "source": [
    "from perceptron import *\n",
    "import pandas as pd"
   ]
  },
  {
   "cell_type": "code",
   "execution_count": 2,
   "metadata": {},
   "outputs": [],
   "source": [
    "iris_dataset = pd.read_csv('files/iris.csv')"
   ]
  },
  {
   "cell_type": "code",
   "execution_count": 3,
   "metadata": {},
   "outputs": [
    {
     "data": {
      "text/plain": [
       "{'predictions': [1, 1, 1, 1, 1, 1, 1, -1, -1, -1, 1, 1, 1, -1, -1],\n",
       " 'prediction_success': '100.0%'}"
      ]
     },
     "execution_count": 3,
     "metadata": {},
     "output_type": "execute_result"
    }
   ],
   "source": [
    "iris_validation = run_perceptron_validation(dataset=iris_dataset, \n",
    "                                            column_x='Species', \n",
    "                                            column_y='setosa', \n",
    "                                            test_size=0.1)\n",
    "iris_validation"
   ]
  },
  {
   "cell_type": "markdown",
   "metadata": {},
   "source": [
    "# Tarefa 1 - Reexecutar train/test/split"
   ]
  },
  {
   "cell_type": "code",
   "execution_count": 4,
   "metadata": {},
   "outputs": [
    {
     "data": {
      "text/plain": [
       "{'predictions': [1, 1, 1, 1, 1, 1, -1, 1, 1, -1, -1, 1, 1, -1, -1],\n",
       " 'prediction_success': '100.0%'}"
      ]
     },
     "execution_count": 4,
     "metadata": {},
     "output_type": "execute_result"
    }
   ],
   "source": [
    "iris_validation_2 = run_perceptron_validation(dataset=iris_dataset, \n",
    "                                            column_x='Species', \n",
    "                                            column_y='setosa', \n",
    "                                            test_size=0.1)\n",
    "iris_validation_2"
   ]
  },
  {
   "cell_type": "code",
   "execution_count": null,
   "metadata": {},
   "outputs": [],
   "source": []
  }
 ],
 "metadata": {
  "kernelspec": {
   "display_name": "Python 3",
   "language": "python",
   "name": "python3"
  },
  "language_info": {
   "codemirror_mode": {
    "name": "ipython",
    "version": 3
   },
   "file_extension": ".py",
   "mimetype": "text/x-python",
   "name": "python",
   "nbconvert_exporter": "python",
   "pygments_lexer": "ipython3",
   "version": "3.8.10"
  }
 },
 "nbformat": 4,
 "nbformat_minor": 4
}
